{
 "cells": [
  {
   "cell_type": "markdown",
   "metadata": {},
   "source": [
    "# Strokes Gained Model"
   ]
  },
  {
   "cell_type": "code",
   "execution_count": 11,
   "metadata": {},
   "outputs": [
    {
     "ename": "ModuleNotFoundError",
     "evalue": "No module named 'BeautifulSoup'",
     "output_type": "error",
     "traceback": [
      "\u001b[0;31m---------------------------------------------------------------------------\u001b[0m",
      "\u001b[0;31mModuleNotFoundError\u001b[0m                       Traceback (most recent call last)",
      "\u001b[0;32m<ipython-input-11-5e07a29f2345>\u001b[0m in \u001b[0;36m<module>\u001b[0;34m\u001b[0m\n\u001b[1;32m      1\u001b[0m \u001b[0;32mimport\u001b[0m \u001b[0mrequests\u001b[0m\u001b[0;34m\u001b[0m\u001b[0;34m\u001b[0m\u001b[0m\n\u001b[0;32m----> 2\u001b[0;31m \u001b[0;32mimport\u001b[0m \u001b[0mBeautifulSoup\u001b[0m\u001b[0;34m\u001b[0m\u001b[0;34m\u001b[0m\u001b[0m\n\u001b[0m\u001b[1;32m      3\u001b[0m \u001b[0murl_stub\u001b[0m \u001b[0;34m=\u001b[0m \u001b[0;34m\"http://www.pgatour.com/stats/stat.%s.%s.html\"\u001b[0m \u001b[0;31m#stat id, year\u001b[0m\u001b[0;34m\u001b[0m\u001b[0;34m\u001b[0m\u001b[0m\n\u001b[1;32m      4\u001b[0m \u001b[0mcategory_url_stub\u001b[0m \u001b[0;34m=\u001b[0m \u001b[0;34m'http://www.pgatour.com/stats/categories.%s.html'\u001b[0m\u001b[0;34m\u001b[0m\u001b[0;34m\u001b[0m\u001b[0m\n\u001b[1;32m      5\u001b[0m \u001b[0mcategory_labels\u001b[0m \u001b[0;34m=\u001b[0m \u001b[0;34m[\u001b[0m\u001b[0;34m'RPTS_INQ'\u001b[0m\u001b[0;34m,\u001b[0m \u001b[0;34m'ROTT_INQ'\u001b[0m\u001b[0;34m,\u001b[0m \u001b[0;34m'RAPP_INQ'\u001b[0m\u001b[0;34m,\u001b[0m \u001b[0;34m'RARG_INQ'\u001b[0m\u001b[0;34m,\u001b[0m \u001b[0;34m'RPUT_INQ'\u001b[0m\u001b[0;34m,\u001b[0m \u001b[0;34m'RSCR_INQ'\u001b[0m\u001b[0;34m,\u001b[0m \u001b[0;34m'RSTR_INQ'\u001b[0m\u001b[0;34m,\u001b[0m \u001b[0;34m'RMNY_INQ'\u001b[0m\u001b[0;34m]\u001b[0m\u001b[0;34m\u001b[0m\u001b[0;34m\u001b[0m\u001b[0m\n",
      "\u001b[0;31mModuleNotFoundError\u001b[0m: No module named 'BeautifulSoup'"
     ]
    }
   ],
   "source": [
    "import requests\n",
    "import BeautifulSoup4\n",
    "url_stub = \"http://www.pgatour.com/stats/stat.%s.%s.html\" #stat id, year\n",
    "category_url_stub = 'http://www.pgatour.com/stats/categories.%s.html'\n",
    "category_labels = ['RPTS_INQ', 'ROTT_INQ', 'RAPP_INQ', 'RARG_INQ', 'RPUT_INQ', 'RSCR_INQ', 'RSTR_INQ', 'RMNY_INQ']\n",
    "pga_tour_base_url = \"http://www.pgatour.com\"\n",
    "def gather_pages(url, filename):\n",
    "    print(filename)\n",
    "    urllib.urlretrieve(url, filename)\n",
    "\n",
    "def gather_html():\n",
    "    stat_ids = []\n",
    "    for category in category_labels:\n",
    "        category_url = category_url_stub % (category)\n",
    "        page = requests.get(category_url)\n",
    "        html = BeautifulSoup4(page.text.replace('\\n',''), 'html.parser')\n",
    "    for table in html.find_all(\"div\", class_=\"table-content\"):\n",
    "        for link in table.find_all(\"a\"):\n",
    "             stat_ids.append(link['href'].split('.')[1])\n",
    "\n",
    "    starting_year = 2015 #page in order to see which years we have info for\n",
    "    for stat_id in stat_ids:\n",
    "        url = url_stub % (stat_id, starting_year)\n",
    "        page = requests.get(url)\n",
    "        html = BeautifulSoup4(page.text.replace('\\n',''), 'html.parser')\n",
    "        stat = html.find(\"div\", class_=\"parsys mainParsys\").find('h3').text\n",
    "        print(stat)\n",
    "        directory = \"stats_html/%s\" % stat.replace('/', ' ') #need to replace to avoid\n",
    "        if not os.path.exists(directory):\n",
    "            os.makedirs(directory)\n",
    "        years = []\n",
    "        for option in html.find(\"select\", class_=\"statistics-details-select\").find_all(\"option\"):\n",
    "            year = option['value']\n",
    "            if year not in years:\n",
    "                years.append(year)\n",
    "        url_filenames = []\n",
    "        for year in years:\n",
    "            url = url_stub % (stat_id, year)\n",
    "            filename = \"%s/%s.html\" % (directory, year)\n",
    "            if not os.path.isfile(filename): #this check saves time if you've already downloaded the page\n",
    "                url_filenames.append((url, filename))\n",
    "                jobs = [gevent.spawn(gather_pages, pair[0], pair[1]) for pair in url_filenames]\n",
    "                gevent.joinall(jobs)"
   ]
  },
  {
   "cell_type": "code",
   "execution_count": 12,
   "metadata": {},
   "outputs": [
    {
     "ename": "NameError",
     "evalue": "name 'BeautifulSoup' is not defined",
     "output_type": "error",
     "traceback": [
      "\u001b[0;31m---------------------------------------------------------------------------\u001b[0m",
      "\u001b[0;31mNameError\u001b[0m                                 Traceback (most recent call last)",
      "\u001b[0;32m<ipython-input-12-2118958a4a68>\u001b[0m in \u001b[0;36m<module>\u001b[0;34m\u001b[0m\n\u001b[0;32m----> 1\u001b[0;31m \u001b[0mgather_html\u001b[0m\u001b[0;34m(\u001b[0m\u001b[0;34m)\u001b[0m\u001b[0;34m\u001b[0m\u001b[0;34m\u001b[0m\u001b[0m\n\u001b[0m",
      "\u001b[0;32m<ipython-input-9-b7ffa2395491>\u001b[0m in \u001b[0;36mgather_html\u001b[0;34m()\u001b[0m\n\u001b[1;32m     13\u001b[0m         \u001b[0mcategory_url\u001b[0m \u001b[0;34m=\u001b[0m \u001b[0mcategory_url_stub\u001b[0m \u001b[0;34m%\u001b[0m \u001b[0;34m(\u001b[0m\u001b[0mcategory\u001b[0m\u001b[0;34m)\u001b[0m\u001b[0;34m\u001b[0m\u001b[0;34m\u001b[0m\u001b[0m\n\u001b[1;32m     14\u001b[0m         \u001b[0mpage\u001b[0m \u001b[0;34m=\u001b[0m \u001b[0mrequests\u001b[0m\u001b[0;34m.\u001b[0m\u001b[0mget\u001b[0m\u001b[0;34m(\u001b[0m\u001b[0mcategory_url\u001b[0m\u001b[0;34m)\u001b[0m\u001b[0;34m\u001b[0m\u001b[0;34m\u001b[0m\u001b[0m\n\u001b[0;32m---> 15\u001b[0;31m         \u001b[0mhtml\u001b[0m \u001b[0;34m=\u001b[0m \u001b[0mBeautifulSoup\u001b[0m\u001b[0;34m(\u001b[0m\u001b[0mpage\u001b[0m\u001b[0;34m.\u001b[0m\u001b[0mtext\u001b[0m\u001b[0;34m.\u001b[0m\u001b[0mreplace\u001b[0m\u001b[0;34m(\u001b[0m\u001b[0;34m'\\n'\u001b[0m\u001b[0;34m,\u001b[0m\u001b[0;34m''\u001b[0m\u001b[0;34m)\u001b[0m\u001b[0;34m,\u001b[0m \u001b[0;34m'html.parser'\u001b[0m\u001b[0;34m)\u001b[0m\u001b[0;34m\u001b[0m\u001b[0;34m\u001b[0m\u001b[0m\n\u001b[0m\u001b[1;32m     16\u001b[0m     \u001b[0;32mfor\u001b[0m \u001b[0mtable\u001b[0m \u001b[0;32min\u001b[0m \u001b[0mhtml\u001b[0m\u001b[0;34m.\u001b[0m\u001b[0mfind_all\u001b[0m\u001b[0;34m(\u001b[0m\u001b[0;34m\"div\"\u001b[0m\u001b[0;34m,\u001b[0m \u001b[0mclass_\u001b[0m\u001b[0;34m=\u001b[0m\u001b[0;34m\"table-content\"\u001b[0m\u001b[0;34m)\u001b[0m\u001b[0;34m:\u001b[0m\u001b[0;34m\u001b[0m\u001b[0;34m\u001b[0m\u001b[0m\n\u001b[1;32m     17\u001b[0m         \u001b[0;32mfor\u001b[0m \u001b[0mlink\u001b[0m \u001b[0;32min\u001b[0m \u001b[0mtable\u001b[0m\u001b[0;34m.\u001b[0m\u001b[0mfind_all\u001b[0m\u001b[0;34m(\u001b[0m\u001b[0;34m\"a\"\u001b[0m\u001b[0;34m)\u001b[0m\u001b[0;34m:\u001b[0m\u001b[0;34m\u001b[0m\u001b[0;34m\u001b[0m\u001b[0m\n",
      "\u001b[0;31mNameError\u001b[0m: name 'BeautifulSoup' is not defined"
     ]
    }
   ],
   "source": [
    "gather_html()"
   ]
  },
  {
   "cell_type": "code",
   "execution_count": null,
   "metadata": {},
   "outputs": [],
   "source": []
  }
 ],
 "metadata": {
  "kernelspec": {
   "display_name": "Python 3",
   "language": "python",
   "name": "python3"
  },
  "language_info": {
   "codemirror_mode": {
    "name": "ipython",
    "version": 3
   },
   "file_extension": ".py",
   "mimetype": "text/x-python",
   "name": "python",
   "nbconvert_exporter": "python",
   "pygments_lexer": "ipython3",
   "version": "3.7.4"
  }
 },
 "nbformat": 4,
 "nbformat_minor": 4
}
